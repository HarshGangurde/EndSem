{
 "cells": [
  {
   "cell_type": "code",
   "execution_count": null,
   "id": "b922507d",
   "metadata": {},
   "outputs": [],
   "source": []
  },
  {
   "cell_type": "code",
   "execution_count": 7,
   "id": "5c91125f",
   "metadata": {},
   "outputs": [],
   "source": [
    "import pandas as pd\n",
    "import matplotlib.pyplot as plt\n",
    "from sklearn.datasets import load_breast_cancer\n",
    "from sklearn.model_selection import train_test_split\n",
    "from sklearn.linear_model import LogisticRegression\n",
    "from sklearn.ensemble import RandomForestClassifier\n",
    "from sklearn.preprocessing import StandardScaler\n",
    "from sklearn.pipeline import make_pipeline\n",
    "from sklearn.metrics import (confusion_matrix,ConfusionMatrixDisplay,\n",
    "    precision_recall_curve,\n",
    "    PrecisionRecallDisplay,\n",
    "    classification_report,accuracy_score\n",
    ")"
   ]
  },
  {
   "cell_type": "code",
   "execution_count": 8,
   "id": "bf2f8484",
   "metadata": {},
   "outputs": [],
   "source": [
    "data=load_breast_cancer()\n",
    "X=pd.DataFrame(data.data, columns=data.feature_names)\n",
    "y=data.target\n",
    "X_train,X_test,y_train,y_test=train_test_split(X,y,test_size=0.2,random_state=42)"
   ]
  },
  {
   "cell_type": "code",
   "execution_count": 9,
   "id": "2a29e326",
   "metadata": {},
   "outputs": [],
   "source": [
    "lr_model=make_pipeline(StandardScaler(),LogisticRegression(max_iter=1000))\n",
    "rf_model=RandomForestClassifier(random_state=42)\n",
    "lr_model.fit(X_train,y_train)\n",
    "rf_model.fit(X_train,y_train)\n",
    "\n",
    "y_pred_lr=lr_model.predict(X_test)\n",
    "y_pred_rf=rf_model.predict(X_test)\n",
    "y_scores_lr=lr_model.predict_proba(X_test)[:, 1]\n",
    "y_scores_rf=rf_model.predict_proba(X_test)[:, 1]"
   ]
  },
  {
   "cell_type": "code",
   "execution_count": 10,
   "id": "300dd2f4",
   "metadata": {},
   "outputs": [],
   "source": [
    "cm_lr=confusion_matrix(y_test,y_pred_lr)\n",
    "disp_lr=ConfusionMatrixDisplay(cm_lr,display_labels=data.target_names)\n",
    "disp_lr.plot()\n",
    "plt.title(\"Confusion Matrix - Logistic Regression\")\n",
    "plt.savefig(\"confusion_matrix_lr.png\")\n",
    "plt.close()\n",
    "\n",
    "cm_rf=confusion_matrix(y_test,y_pred_rf)\n",
    "disp_rf=ConfusionMatrixDisplay(cm_rf,display_labels=data.target_names)\n",
    "disp_rf.plot()\n",
    "plt.title(\"Confusion Matrix - Random Forest\")\n",
    "plt.savefig(\"confusion_matrix_rf.png\")\n",
    "plt.close()"
   ]
  },
  {
   "cell_type": "code",
   "execution_count": 11,
   "id": "9f2fe4db",
   "metadata": {},
   "outputs": [],
   "source": [
    "precision_lr, recall_lr, _=precision_recall_curve(y_test,y_scores_lr)\n",
    "PrecisionRecallDisplay(precision_lr, recall_lr).plot()\n",
    "plt.title(\"Precision-Recall Curve - Logistic Regression\")\n",
    "plt.savefig(\"pr_curve_lr.png\")\n",
    "plt.close()\n",
    "\n",
    "precision_rf, recall_rf,_=precision_recall_curve(y_test,y_scores_rf)\n",
    "PrecisionRecallDisplay(precision_rf,recall_rf).plot()\n",
    "plt.title(\"Precision-Recall Curve - Random Forest\")\n",
    "plt.savefig(\"pr_curve_rf.png\")\n",
    "plt.close()"
   ]
  },
  {
   "cell_type": "code",
   "execution_count": 12,
   "id": "0519adc9",
   "metadata": {},
   "outputs": [
    {
     "name": "stdout",
     "output_type": "stream",
     "text": [
      "Logistic Regression Report:\n",
      "               precision    recall  f1-score   support\n",
      "\n",
      "           0       0.98      0.95      0.96        43\n",
      "           1       0.97      0.99      0.98        71\n",
      "\n",
      "    accuracy                           0.97       114\n",
      "   macro avg       0.97      0.97      0.97       114\n",
      "weighted avg       0.97      0.97      0.97       114\n",
      "\n",
      "Random Forest Report:\n",
      "               precision    recall  f1-score   support\n",
      "\n",
      "           0       0.98      0.93      0.95        43\n",
      "           1       0.96      0.99      0.97        71\n",
      "\n",
      "    accuracy                           0.96       114\n",
      "   macro avg       0.97      0.96      0.96       114\n",
      "weighted avg       0.97      0.96      0.96       114\n",
      "\n"
     ]
    }
   ],
   "source": [
    "print(\"Logistic Regression Report:\\n\", classification_report(y_test,y_pred_lr))\n",
    "print(\"Random Forest Report:\\n\", classification_report(y_test,y_pred_rf))"
   ]
  },
  {
   "cell_type": "code",
   "execution_count": null,
   "id": "c30a20ac",
   "metadata": {},
   "outputs": [],
   "source": []
  }
 ],
 "metadata": {
  "kernelspec": {
   "display_name": "Python 3 (ipykernel)",
   "language": "python",
   "name": "python3"
  },
  "language_info": {
   "codemirror_mode": {
    "name": "ipython",
    "version": 3
   },
   "file_extension": ".py",
   "mimetype": "text/x-python",
   "name": "python",
   "nbconvert_exporter": "python",
   "pygments_lexer": "ipython3",
   "version": "3.9.12"
  }
 },
 "nbformat": 4,
 "nbformat_minor": 5
}
