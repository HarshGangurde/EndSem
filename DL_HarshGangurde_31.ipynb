{
 "cells": [
  {
   "cell_type": "code",
   "execution_count": null,
   "id": "970f2538",
   "metadata": {},
   "outputs": [],
   "source": []
  },
  {
   "cell_type": "code",
   "execution_count": 8,
   "id": "0fc69235",
   "metadata": {},
   "outputs": [],
   "source": [
    "import numpy as np\n",
    "import pandas as pd\n",
    "from tensorflow.keras.models import Sequential\n",
    "from tensorflow.keras.layers import LSTM, Dense\n",
    "from sklearn.preprocessing import MinMaxScaler\n",
    "import matplotlib.pyplot as plt"
   ]
  },
  {
   "cell_type": "code",
   "execution_count": 9,
   "id": "415ea89f",
   "metadata": {},
   "outputs": [
    {
     "name": "stdout",
     "output_type": "stream",
     "text": [
      "         Date  Temp\n",
      "0  1981-01-01  20.7\n",
      "1  1981-01-02  17.9\n",
      "2  1981-01-03  18.8\n",
      "3  1981-01-04  14.6\n",
      "4  1981-01-05  15.8\n"
     ]
    }
   ],
   "source": [
    "df=pd.read_csv(\"daily-min-temperatures.csv\")  \n",
    "print(df.head())\n",
    "data=df['Temp'].values  \n",
    "scaler=MinMaxScaler()\n",
    "scaled=scaler.fit_transform(data.reshape(-1,1))\n",
    "X,y=np.array(X),np.array(y)\n",
    "X=X.reshape((X.shape[0],X.shape[1],1))"
   ]
  },
  {
   "cell_type": "code",
   "execution_count": 10,
   "id": "fdaa6f4e",
   "metadata": {},
   "outputs": [
    {
     "name": "stdout",
     "output_type": "stream",
     "text": [
      "Epoch 1/10\n",
      "228/228 [==============================] - 2s 2ms/step - loss: 0.0165 - mae: 0.0955\n",
      "Epoch 2/10\n",
      "228/228 [==============================] - 1s 2ms/step - loss: 0.0109 - mae: 0.0813\n",
      "Epoch 3/10\n",
      "228/228 [==============================] - 1s 2ms/step - loss: 0.0105 - mae: 0.0798\n",
      "Epoch 4/10\n",
      "228/228 [==============================] - 1s 2ms/step - loss: 0.0101 - mae: 0.0785\n",
      "Epoch 5/10\n",
      "228/228 [==============================] - 1s 2ms/step - loss: 0.0097 - mae: 0.0765\n",
      "Epoch 6/10\n",
      "228/228 [==============================] - 1s 2ms/step - loss: 0.0093 - mae: 0.0755\n",
      "Epoch 7/10\n",
      "228/228 [==============================] - 1s 2ms/step - loss: 0.0090 - mae: 0.0748\n",
      "Epoch 8/10\n",
      "228/228 [==============================] - 1s 2ms/step - loss: 0.0090 - mae: 0.0744\n",
      "Epoch 9/10\n",
      "228/228 [==============================] - 1s 2ms/step - loss: 0.0088 - mae: 0.0736\n",
      "Epoch 10/10\n",
      "228/228 [==============================] - 1s 2ms/step - loss: 0.0088 - mae: 0.0735\n",
      "1/1 [==============================] - 0s 236ms/step\n"
     ]
    }
   ],
   "source": [
    "model=Sequential([\n",
    "    LSTM(50,input_shape=(X.shape[1],1)),\n",
    "    Dense(1)\n",
    "])\n",
    "\n",
    "model.compile(optimizer='adam',loss='mse',metrics=['mae'])\n",
    "history=model.fit(X,y,epochs=10,batch_size=16,verbose=1)\n",
    "last_seq=scaled[-10:].reshape((1,10,1))\n",
    "predicted=model.predict(last_seq)\n",
    "predicted_temp=scaler.inverse_transform(predicted)"
   ]
  },
  {
   "cell_type": "code",
   "execution_count": 11,
   "id": "2b437af9",
   "metadata": {},
   "outputs": [
    {
     "name": "stdout",
     "output_type": "stream",
     "text": [
      "Next forecasted temperature: 12.268703\n"
     ]
    },
    {
     "data": {
      "image/png": "[encoded data removed]",
      "text/plain": [
       "<Figure size 720x360 with 1 Axes>"
      ]
     },
     "metadata": {
      "needs_background": "light"
     },
     "output_type": "display_data"
    }
   ],
   "source": [
    "print(\"Next forecasted temperature:\",predicted_temp[0][0])\n",
    "plt.figure(figsize=(10, 5))\n",
    "plt.plot(history.history['loss'], label='Loss (MSE)', marker='o')\n",
    "plt.plot(history.history['mae'], label='MAE', marker='x')\n",
    "plt.xlabel('Epoch')\n",
    "plt.ylabel('Value')\n",
    "plt.title('Model Training Performance')\n",
    "plt.legend()\n",
    "plt.grid(True)\n",
    "plt.tight_layout()\n",
    "plt.show()"
   ]
  },
  {
   "cell_type": "code",
   "execution_count": null,
   "id": "2a897c08",
   "metadata": {},
   "outputs": [],
   "source": []
  },
  {
   "cell_type": "code",
   "execution_count": null,
   "id": "b770aa7b",
   "metadata": {},
   "outputs": [],
   "source": []
  }
 ],
 "metadata": {
  "kernelspec": {
   "display_name": "Python 3 (ipykernel)",
   "language": "python",
   "name": "python3"
  },
  "language_info": {
   "codemirror_mode": {
    "name": "ipython",
    "version": 3
   },
   "file_extension": ".py",
   "mimetype": "text/x-python",
   "name": "python",
   "nbconvert_exporter": "python",
   "pygments_lexer": "ipython3",
   "version": "3.9.12"
  }
 },
 "nbformat": 4,
 "nbformat_minor": 5
}
